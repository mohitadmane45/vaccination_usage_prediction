{
 "cells": [
  {
   "cell_type": "markdown",
   "metadata": {},
   "source": [
    "### Vaccine Usage Prediction\n",
    "\n",
    "Abstract:\n",
    "Subjects receiving the same vaccine often show different levels of immune responses and some may even present adverse side effects to the vaccine. Systems vaccinology can combine data and machine learning techniques to obtain highly predictive signatures of vaccine immunogenicity and reactogenicity. Currently, several machine learning methods are already available to researchers with no background in bioinformatics\n"
   ]
  },
  {
   "cell_type": "markdown",
   "metadata": {},
   "source": [
    "\n",
    "### Problem Statement:\n",
    "Predict how likely it is that the people will take an H1N1 flu vaccine using Logistic Regression.\n",
    "\n"
   ]
  },
  {
   "cell_type": "markdown",
   "metadata": {
    "executionInfo": {
     "elapsed": 1744,
     "status": "ok",
     "timestamp": 1669033379605,
     "user": {
      "displayName": "SURAJ YADAV",
      "userId": "00000034105871889528"
     },
     "user_tz": -330
    },
    "id": "h4g0uCUJkdds"
   },
   "source": [
    "### Importing required libraries"
   ]
  },
  {
   "cell_type": "markdown",
   "metadata": {},
   "source": [
    "Scope:\n",
    "●\tExploratory data analysis\n",
    "●\tData Pre-processing\n",
    "●\tTraining logistic regression model with MLE for prediction\n",
    "●\tTuning the model to improve the performance\n",
    "\n",
    "\n",
    "Learning Outcome:\n",
    "The students will get a better understanding of how the variables are linked to each other and how the EDA approach will help them gain more insights and knowledge about the data that we have and train Logistic Regression using MLE.\n"
   ]
  },
  {
   "cell_type": "code",
   "execution_count": 6,
   "metadata": {},
   "outputs": [],
   "source": [
    "import pandas as pd\n",
    "import numpy as np\n",
    "import matplotlib.pyplot as plt\n",
    "import seaborn as sns\n",
    "pd.set_option(\"display.max_columns\",None)"
   ]
  },
  {
   "cell_type": "markdown",
   "metadata": {},
   "source": [
    "### Reading the data"
   ]
  },
  {
   "cell_type": "code",
   "execution_count": 7,
   "metadata": {
    "colab": {
     "base_uri": "https://localhost:8080/",
     "height": 814
    },
    "executionInfo": {
     "elapsed": 19,
     "status": "ok",
     "timestamp": 1669033379606,
     "user": {
      "displayName": "SURAJ YADAV",
      "userId": "00000034105871889528"
     },
     "user_tz": -330
    },
    "id": "QhFcqdLrlBsB",
    "outputId": "639c5dc6-5a0f-4f32-a198-026c99f25d36"
   },
   "outputs": [
    {
     "data": {
      "text/html": [
       "<div>\n",
       "<style scoped>\n",
       "    .dataframe tbody tr th:only-of-type {\n",
       "        vertical-align: middle;\n",
       "    }\n",
       "\n",
       "    .dataframe tbody tr th {\n",
       "        vertical-align: top;\n",
       "    }\n",
       "\n",
       "    .dataframe thead th {\n",
       "        text-align: right;\n",
       "    }\n",
       "</style>\n",
       "<table border=\"1\" class=\"dataframe\">\n",
       "  <thead>\n",
       "    <tr style=\"text-align: right;\">\n",
       "      <th></th>\n",
       "      <th>h1n1_worry</th>\n",
       "      <th>h1n1_awareness</th>\n",
       "      <th>antiviral_medication</th>\n",
       "      <th>contact_avoidance</th>\n",
       "      <th>bought_face_mask</th>\n",
       "      <th>wash_hands_frequently</th>\n",
       "      <th>avoid_large_gatherings</th>\n",
       "      <th>reduced_outside_home_cont</th>\n",
       "      <th>avoid_touch_face</th>\n",
       "      <th>dr_recc_h1n1_vacc</th>\n",
       "      <th>dr_recc_seasonal_vacc</th>\n",
       "      <th>chronic_medic_condition</th>\n",
       "      <th>cont_child_undr_6_mnths</th>\n",
       "      <th>is_health_worker</th>\n",
       "      <th>has_health_insur</th>\n",
       "      <th>is_h1n1_vacc_effective</th>\n",
       "      <th>is_h1n1_risky</th>\n",
       "      <th>sick_from_h1n1_vacc</th>\n",
       "      <th>is_seas_vacc_effective</th>\n",
       "      <th>is_seas_risky</th>\n",
       "      <th>sick_from_seas_vacc</th>\n",
       "      <th>age_bracket</th>\n",
       "      <th>qualification</th>\n",
       "      <th>race</th>\n",
       "      <th>sex</th>\n",
       "      <th>income_level</th>\n",
       "      <th>marital_status</th>\n",
       "      <th>housing_status</th>\n",
       "      <th>employment</th>\n",
       "      <th>census_msa</th>\n",
       "      <th>no_of_adults</th>\n",
       "      <th>no_of_children</th>\n",
       "      <th>h1n1_vaccine</th>\n",
       "    </tr>\n",
       "    <tr>\n",
       "      <th>unique_id</th>\n",
       "      <th></th>\n",
       "      <th></th>\n",
       "      <th></th>\n",
       "      <th></th>\n",
       "      <th></th>\n",
       "      <th></th>\n",
       "      <th></th>\n",
       "      <th></th>\n",
       "      <th></th>\n",
       "      <th></th>\n",
       "      <th></th>\n",
       "      <th></th>\n",
       "      <th></th>\n",
       "      <th></th>\n",
       "      <th></th>\n",
       "      <th></th>\n",
       "      <th></th>\n",
       "      <th></th>\n",
       "      <th></th>\n",
       "      <th></th>\n",
       "      <th></th>\n",
       "      <th></th>\n",
       "      <th></th>\n",
       "      <th></th>\n",
       "      <th></th>\n",
       "      <th></th>\n",
       "      <th></th>\n",
       "      <th></th>\n",
       "      <th></th>\n",
       "      <th></th>\n",
       "      <th></th>\n",
       "      <th></th>\n",
       "      <th></th>\n",
       "    </tr>\n",
       "  </thead>\n",
       "  <tbody>\n",
       "    <tr>\n",
       "      <th>0</th>\n",
       "      <td>1.0</td>\n",
       "      <td>0.0</td>\n",
       "      <td>0.0</td>\n",
       "      <td>0.0</td>\n",
       "      <td>0.0</td>\n",
       "      <td>0.0</td>\n",
       "      <td>0.0</td>\n",
       "      <td>1.0</td>\n",
       "      <td>1.0</td>\n",
       "      <td>0.0</td>\n",
       "      <td>0.0</td>\n",
       "      <td>0.0</td>\n",
       "      <td>0.0</td>\n",
       "      <td>0.0</td>\n",
       "      <td>1.0</td>\n",
       "      <td>3.0</td>\n",
       "      <td>1.0</td>\n",
       "      <td>2.0</td>\n",
       "      <td>2.0</td>\n",
       "      <td>1.0</td>\n",
       "      <td>2.0</td>\n",
       "      <td>55 - 64 Years</td>\n",
       "      <td>&lt; 12 Years</td>\n",
       "      <td>White</td>\n",
       "      <td>Female</td>\n",
       "      <td>Below Poverty</td>\n",
       "      <td>Not Married</td>\n",
       "      <td>Own</td>\n",
       "      <td>Not in Labor Force</td>\n",
       "      <td>Non-MSA</td>\n",
       "      <td>0.0</td>\n",
       "      <td>0.0</td>\n",
       "      <td>0</td>\n",
       "    </tr>\n",
       "    <tr>\n",
       "      <th>1</th>\n",
       "      <td>3.0</td>\n",
       "      <td>2.0</td>\n",
       "      <td>0.0</td>\n",
       "      <td>1.0</td>\n",
       "      <td>0.0</td>\n",
       "      <td>1.0</td>\n",
       "      <td>0.0</td>\n",
       "      <td>1.0</td>\n",
       "      <td>1.0</td>\n",
       "      <td>0.0</td>\n",
       "      <td>0.0</td>\n",
       "      <td>0.0</td>\n",
       "      <td>0.0</td>\n",
       "      <td>0.0</td>\n",
       "      <td>1.0</td>\n",
       "      <td>5.0</td>\n",
       "      <td>4.0</td>\n",
       "      <td>4.0</td>\n",
       "      <td>4.0</td>\n",
       "      <td>2.0</td>\n",
       "      <td>4.0</td>\n",
       "      <td>35 - 44 Years</td>\n",
       "      <td>12 Years</td>\n",
       "      <td>White</td>\n",
       "      <td>Male</td>\n",
       "      <td>Below Poverty</td>\n",
       "      <td>Not Married</td>\n",
       "      <td>Rent</td>\n",
       "      <td>Employed</td>\n",
       "      <td>MSA, Not Principle  City</td>\n",
       "      <td>0.0</td>\n",
       "      <td>0.0</td>\n",
       "      <td>0</td>\n",
       "    </tr>\n",
       "    <tr>\n",
       "      <th>2</th>\n",
       "      <td>1.0</td>\n",
       "      <td>1.0</td>\n",
       "      <td>0.0</td>\n",
       "      <td>1.0</td>\n",
       "      <td>0.0</td>\n",
       "      <td>0.0</td>\n",
       "      <td>0.0</td>\n",
       "      <td>0.0</td>\n",
       "      <td>0.0</td>\n",
       "      <td>NaN</td>\n",
       "      <td>NaN</td>\n",
       "      <td>1.0</td>\n",
       "      <td>0.0</td>\n",
       "      <td>0.0</td>\n",
       "      <td>NaN</td>\n",
       "      <td>3.0</td>\n",
       "      <td>1.0</td>\n",
       "      <td>1.0</td>\n",
       "      <td>4.0</td>\n",
       "      <td>1.0</td>\n",
       "      <td>2.0</td>\n",
       "      <td>18 - 34 Years</td>\n",
       "      <td>College Graduate</td>\n",
       "      <td>White</td>\n",
       "      <td>Male</td>\n",
       "      <td>&lt;= $75,000, Above Poverty</td>\n",
       "      <td>Not Married</td>\n",
       "      <td>Own</td>\n",
       "      <td>Employed</td>\n",
       "      <td>MSA, Not Principle  City</td>\n",
       "      <td>2.0</td>\n",
       "      <td>0.0</td>\n",
       "      <td>0</td>\n",
       "    </tr>\n",
       "    <tr>\n",
       "      <th>3</th>\n",
       "      <td>1.0</td>\n",
       "      <td>1.0</td>\n",
       "      <td>0.0</td>\n",
       "      <td>1.0</td>\n",
       "      <td>0.0</td>\n",
       "      <td>1.0</td>\n",
       "      <td>1.0</td>\n",
       "      <td>0.0</td>\n",
       "      <td>0.0</td>\n",
       "      <td>0.0</td>\n",
       "      <td>1.0</td>\n",
       "      <td>1.0</td>\n",
       "      <td>0.0</td>\n",
       "      <td>0.0</td>\n",
       "      <td>NaN</td>\n",
       "      <td>3.0</td>\n",
       "      <td>3.0</td>\n",
       "      <td>5.0</td>\n",
       "      <td>5.0</td>\n",
       "      <td>4.0</td>\n",
       "      <td>1.0</td>\n",
       "      <td>65+ Years</td>\n",
       "      <td>12 Years</td>\n",
       "      <td>White</td>\n",
       "      <td>Female</td>\n",
       "      <td>Below Poverty</td>\n",
       "      <td>Not Married</td>\n",
       "      <td>Rent</td>\n",
       "      <td>Not in Labor Force</td>\n",
       "      <td>MSA, Principle City</td>\n",
       "      <td>0.0</td>\n",
       "      <td>0.0</td>\n",
       "      <td>0</td>\n",
       "    </tr>\n",
       "    <tr>\n",
       "      <th>4</th>\n",
       "      <td>2.0</td>\n",
       "      <td>1.0</td>\n",
       "      <td>0.0</td>\n",
       "      <td>1.0</td>\n",
       "      <td>0.0</td>\n",
       "      <td>1.0</td>\n",
       "      <td>1.0</td>\n",
       "      <td>0.0</td>\n",
       "      <td>1.0</td>\n",
       "      <td>0.0</td>\n",
       "      <td>0.0</td>\n",
       "      <td>0.0</td>\n",
       "      <td>0.0</td>\n",
       "      <td>0.0</td>\n",
       "      <td>NaN</td>\n",
       "      <td>3.0</td>\n",
       "      <td>3.0</td>\n",
       "      <td>2.0</td>\n",
       "      <td>3.0</td>\n",
       "      <td>1.0</td>\n",
       "      <td>4.0</td>\n",
       "      <td>45 - 54 Years</td>\n",
       "      <td>Some College</td>\n",
       "      <td>White</td>\n",
       "      <td>Female</td>\n",
       "      <td>&lt;= $75,000, Above Poverty</td>\n",
       "      <td>Married</td>\n",
       "      <td>Own</td>\n",
       "      <td>Employed</td>\n",
       "      <td>MSA, Not Principle  City</td>\n",
       "      <td>1.0</td>\n",
       "      <td>0.0</td>\n",
       "      <td>0</td>\n",
       "    </tr>\n",
       "  </tbody>\n",
       "</table>\n",
       "</div>"
      ],
      "text/plain": [
       "           h1n1_worry  h1n1_awareness  antiviral_medication  \\\n",
       "unique_id                                                     \n",
       "0                 1.0             0.0                   0.0   \n",
       "1                 3.0             2.0                   0.0   \n",
       "2                 1.0             1.0                   0.0   \n",
       "3                 1.0             1.0                   0.0   \n",
       "4                 2.0             1.0                   0.0   \n",
       "\n",
       "           contact_avoidance  bought_face_mask  wash_hands_frequently  \\\n",
       "unique_id                                                               \n",
       "0                        0.0               0.0                    0.0   \n",
       "1                        1.0               0.0                    1.0   \n",
       "2                        1.0               0.0                    0.0   \n",
       "3                        1.0               0.0                    1.0   \n",
       "4                        1.0               0.0                    1.0   \n",
       "\n",
       "           avoid_large_gatherings  reduced_outside_home_cont  \\\n",
       "unique_id                                                      \n",
       "0                             0.0                        1.0   \n",
       "1                             0.0                        1.0   \n",
       "2                             0.0                        0.0   \n",
       "3                             1.0                        0.0   \n",
       "4                             1.0                        0.0   \n",
       "\n",
       "           avoid_touch_face  dr_recc_h1n1_vacc  dr_recc_seasonal_vacc  \\\n",
       "unique_id                                                               \n",
       "0                       1.0                0.0                    0.0   \n",
       "1                       1.0                0.0                    0.0   \n",
       "2                       0.0                NaN                    NaN   \n",
       "3                       0.0                0.0                    1.0   \n",
       "4                       1.0                0.0                    0.0   \n",
       "\n",
       "           chronic_medic_condition  cont_child_undr_6_mnths  is_health_worker  \\\n",
       "unique_id                                                                       \n",
       "0                              0.0                      0.0               0.0   \n",
       "1                              0.0                      0.0               0.0   \n",
       "2                              1.0                      0.0               0.0   \n",
       "3                              1.0                      0.0               0.0   \n",
       "4                              0.0                      0.0               0.0   \n",
       "\n",
       "           has_health_insur  is_h1n1_vacc_effective  is_h1n1_risky  \\\n",
       "unique_id                                                            \n",
       "0                       1.0                     3.0            1.0   \n",
       "1                       1.0                     5.0            4.0   \n",
       "2                       NaN                     3.0            1.0   \n",
       "3                       NaN                     3.0            3.0   \n",
       "4                       NaN                     3.0            3.0   \n",
       "\n",
       "           sick_from_h1n1_vacc  is_seas_vacc_effective  is_seas_risky  \\\n",
       "unique_id                                                               \n",
       "0                          2.0                     2.0            1.0   \n",
       "1                          4.0                     4.0            2.0   \n",
       "2                          1.0                     4.0            1.0   \n",
       "3                          5.0                     5.0            4.0   \n",
       "4                          2.0                     3.0            1.0   \n",
       "\n",
       "           sick_from_seas_vacc    age_bracket     qualification   race  \\\n",
       "unique_id                                                                \n",
       "0                          2.0  55 - 64 Years        < 12 Years  White   \n",
       "1                          4.0  35 - 44 Years          12 Years  White   \n",
       "2                          2.0  18 - 34 Years  College Graduate  White   \n",
       "3                          1.0      65+ Years          12 Years  White   \n",
       "4                          4.0  45 - 54 Years      Some College  White   \n",
       "\n",
       "              sex               income_level marital_status housing_status  \\\n",
       "unique_id                                                                    \n",
       "0          Female              Below Poverty    Not Married            Own   \n",
       "1            Male              Below Poverty    Not Married           Rent   \n",
       "2            Male  <= $75,000, Above Poverty    Not Married            Own   \n",
       "3          Female              Below Poverty    Not Married           Rent   \n",
       "4          Female  <= $75,000, Above Poverty        Married            Own   \n",
       "\n",
       "                   employment                census_msa  no_of_adults  \\\n",
       "unique_id                                                               \n",
       "0          Not in Labor Force                   Non-MSA           0.0   \n",
       "1                    Employed  MSA, Not Principle  City           0.0   \n",
       "2                    Employed  MSA, Not Principle  City           2.0   \n",
       "3          Not in Labor Force       MSA, Principle City           0.0   \n",
       "4                    Employed  MSA, Not Principle  City           1.0   \n",
       "\n",
       "           no_of_children  h1n1_vaccine  \n",
       "unique_id                                \n",
       "0                     0.0             0  \n",
       "1                     0.0             0  \n",
       "2                     0.0             0  \n",
       "3                     0.0             0  \n",
       "4                     0.0             0  "
      ]
     },
     "execution_count": 7,
     "metadata": {},
     "output_type": "execute_result"
    }
   ],
   "source": [
    "data=pd.read_csv(r\"C:\\Users\\dell\\Documents\\Vaccine usage predection\\Logistic Regresssion Project\\Dataset\\h1n1_vaccine_prediction.csv\",index_col=0)\n",
    "data.head()"
   ]
  },
  {
   "cell_type": "code",
   "execution_count": 8,
   "metadata": {
    "colab": {
     "base_uri": "https://localhost:8080/"
    },
    "executionInfo": {
     "elapsed": 15,
     "status": "ok",
     "timestamp": 1669033379607,
     "user": {
      "displayName": "SURAJ YADAV",
      "userId": "00000034105871889528"
     },
     "user_tz": -330
    },
    "id": "Ckhg9_DLmZ_J",
    "outputId": "88f9d0fe-4eef-49c6-fe15-59391499b4e4"
   },
   "outputs": [
    {
     "data": {
      "text/plain": [
       "h1n1_worry                   float64\n",
       "h1n1_awareness               float64\n",
       "antiviral_medication         float64\n",
       "contact_avoidance            float64\n",
       "bought_face_mask             float64\n",
       "wash_hands_frequently        float64\n",
       "avoid_large_gatherings       float64\n",
       "reduced_outside_home_cont    float64\n",
       "avoid_touch_face             float64\n",
       "dr_recc_h1n1_vacc            float64\n",
       "dr_recc_seasonal_vacc        float64\n",
       "chronic_medic_condition      float64\n",
       "cont_child_undr_6_mnths      float64\n",
       "is_health_worker             float64\n",
       "has_health_insur             float64\n",
       "is_h1n1_vacc_effective       float64\n",
       "is_h1n1_risky                float64\n",
       "sick_from_h1n1_vacc          float64\n",
       "is_seas_vacc_effective       float64\n",
       "is_seas_risky                float64\n",
       "sick_from_seas_vacc          float64\n",
       "age_bracket                   object\n",
       "qualification                 object\n",
       "race                          object\n",
       "sex                           object\n",
       "income_level                  object\n",
       "marital_status                object\n",
       "housing_status                object\n",
       "employment                    object\n",
       "census_msa                    object\n",
       "no_of_adults                 float64\n",
       "no_of_children               float64\n",
       "h1n1_vaccine                   int64\n",
       "dtype: object"
      ]
     },
     "execution_count": 8,
     "metadata": {},
     "output_type": "execute_result"
    }
   ],
   "source": [
    "#Checking the data types available in the data\n",
    "data.dtypes"
   ]
  },
  {
   "cell_type": "code",
   "execution_count": 9,
   "metadata": {
    "colab": {
     "base_uri": "https://localhost:8080/"
    },
    "executionInfo": {
     "elapsed": 13,
     "status": "ok",
     "timestamp": 1669033379608,
     "user": {
      "displayName": "SURAJ YADAV",
      "userId": "00000034105871889528"
     },
     "user_tz": -330
    },
    "id": "pP6C8ZDvrV87",
    "outputId": "934db936-ecce-433c-e1aa-8e8f6ebe7c5e"
   },
   "outputs": [
    {
     "data": {
      "text/plain": [
       "(26707, 33)"
      ]
     },
     "execution_count": 9,
     "metadata": {},
     "output_type": "execute_result"
    }
   ],
   "source": [
    "data.shape"
   ]
  },
  {
   "cell_type": "code",
   "execution_count": 10,
   "metadata": {
    "colab": {
     "base_uri": "https://localhost:8080/"
    },
    "executionInfo": {
     "elapsed": 12,
     "status": "ok",
     "timestamp": 1669033379609,
     "user": {
      "displayName": "SURAJ YADAV",
      "userId": "00000034105871889528"
     },
     "user_tz": -330
    },
    "id": "EdGKzP6pn_er",
    "outputId": "499de0cb-0fb8-460b-a1d6-723c134728ff"
   },
   "outputs": [
    {
     "data": {
      "text/plain": [
       "h1n1_worry                      92\n",
       "h1n1_awareness                 116\n",
       "antiviral_medication            71\n",
       "contact_avoidance              208\n",
       "bought_face_mask                19\n",
       "wash_hands_frequently           42\n",
       "avoid_large_gatherings          87\n",
       "reduced_outside_home_cont       82\n",
       "avoid_touch_face               128\n",
       "dr_recc_h1n1_vacc             2160\n",
       "dr_recc_seasonal_vacc         2160\n",
       "chronic_medic_condition        971\n",
       "cont_child_undr_6_mnths        820\n",
       "is_health_worker               804\n",
       "has_health_insur             12274\n",
       "is_h1n1_vacc_effective         391\n",
       "is_h1n1_risky                  388\n",
       "sick_from_h1n1_vacc            395\n",
       "is_seas_vacc_effective         462\n",
       "is_seas_risky                  514\n",
       "sick_from_seas_vacc            537\n",
       "age_bracket                      0\n",
       "qualification                 1407\n",
       "race                             0\n",
       "sex                              0\n",
       "income_level                  4423\n",
       "marital_status                1408\n",
       "housing_status                2042\n",
       "employment                    1463\n",
       "census_msa                       0\n",
       "no_of_adults                   249\n",
       "no_of_children                 249\n",
       "h1n1_vaccine                     0\n",
       "dtype: int64"
      ]
     },
     "execution_count": 10,
     "metadata": {},
     "output_type": "execute_result"
    }
   ],
   "source": [
    "data.isnull().sum()"
   ]
  },
  {
   "cell_type": "code",
   "execution_count": 11,
   "metadata": {
    "executionInfo": {
     "elapsed": 11,
     "status": "ok",
     "timestamp": 1669033379609,
     "user": {
      "displayName": "SURAJ YADAV",
      "userId": "00000034105871889528"
     },
     "user_tz": -330
    },
    "id": "x128hFXmrxQO"
   },
   "outputs": [],
   "source": [
    "for i in data.columns:\n",
    "    if data[i].dtype=='object' or data[i].dtype=='bool':\n",
    "        data[i].fillna(data[i].mode()[0],inplace=True)\n",
    "    elif data[i].dtype=='int64' or data[i].dtype=='float64':\n",
    "        data[i].fillna(round(data[i].mean()),inplace=True)"
   ]
  },
  {
   "cell_type": "code",
   "execution_count": 12,
   "metadata": {
    "colab": {
     "base_uri": "https://localhost:8080/"
    },
    "executionInfo": {
     "elapsed": 11,
     "status": "ok",
     "timestamp": 1669033379609,
     "user": {
      "displayName": "SURAJ YADAV",
      "userId": "00000034105871889528"
     },
     "user_tz": -330
    },
    "id": "23hYivI4tim7",
    "outputId": "6b8a17ae-6605-4b95-e7dd-2ef5552bded3"
   },
   "outputs": [
    {
     "data": {
      "text/plain": [
       "h1n1_worry                   0\n",
       "h1n1_awareness               0\n",
       "antiviral_medication         0\n",
       "contact_avoidance            0\n",
       "bought_face_mask             0\n",
       "wash_hands_frequently        0\n",
       "avoid_large_gatherings       0\n",
       "reduced_outside_home_cont    0\n",
       "avoid_touch_face             0\n",
       "dr_recc_h1n1_vacc            0\n",
       "dr_recc_seasonal_vacc        0\n",
       "chronic_medic_condition      0\n",
       "cont_child_undr_6_mnths      0\n",
       "is_health_worker             0\n",
       "has_health_insur             0\n",
       "is_h1n1_vacc_effective       0\n",
       "is_h1n1_risky                0\n",
       "sick_from_h1n1_vacc          0\n",
       "is_seas_vacc_effective       0\n",
       "is_seas_risky                0\n",
       "sick_from_seas_vacc          0\n",
       "age_bracket                  0\n",
       "qualification                0\n",
       "race                         0\n",
       "sex                          0\n",
       "income_level                 0\n",
       "marital_status               0\n",
       "housing_status               0\n",
       "employment                   0\n",
       "census_msa                   0\n",
       "no_of_adults                 0\n",
       "no_of_children               0\n",
       "h1n1_vaccine                 0\n",
       "dtype: int64"
      ]
     },
     "execution_count": 12,
     "metadata": {},
     "output_type": "execute_result"
    }
   ],
   "source": [
    "data.isnull().sum()"
   ]
  },
  {
   "cell_type": "code",
   "execution_count": 13,
   "metadata": {
    "colab": {
     "base_uri": "https://localhost:8080/"
    },
    "executionInfo": {
     "elapsed": 11,
     "status": "ok",
     "timestamp": 1669033379610,
     "user": {
      "displayName": "SURAJ YADAV",
      "userId": "00000034105871889528"
     },
     "user_tz": -330
    },
    "id": "iw6GRHiztkxm",
    "outputId": "49db8c13-54c3-4cf1-ce97-c4fc62f35fc9"
   },
   "outputs": [
    {
     "name": "stdout",
     "output_type": "stream",
     "text": [
      "{'h1n1_worry': array([1., 3., 2., 0.])}\n",
      "{'h1n1_awareness': array([0., 2., 1.])}\n",
      "{'antiviral_medication': array([0., 1.])}\n",
      "{'contact_avoidance': array([0., 1.])}\n",
      "{'bought_face_mask': array([0., 1.])}\n",
      "{'wash_hands_frequently': array([0., 1.])}\n",
      "{'avoid_large_gatherings': array([0., 1.])}\n",
      "{'reduced_outside_home_cont': array([1., 0.])}\n",
      "{'avoid_touch_face': array([1., 0.])}\n",
      "{'dr_recc_h1n1_vacc': array([0., 1.])}\n",
      "{'dr_recc_seasonal_vacc': array([0., 1.])}\n",
      "{'chronic_medic_condition': array([0., 1.])}\n",
      "{'cont_child_undr_6_mnths': array([0., 1.])}\n",
      "{'is_health_worker': array([0., 1.])}\n",
      "{'has_health_insur': array([1., 0.])}\n",
      "{'is_h1n1_vacc_effective': array([3., 5., 4., 2., 1.])}\n",
      "{'is_h1n1_risky': array([1., 4., 3., 2., 5.])}\n",
      "{'sick_from_h1n1_vacc': array([2., 4., 1., 5., 3.])}\n",
      "{'is_seas_vacc_effective': array([2., 4., 5., 3., 1.])}\n",
      "{'is_seas_risky': array([1., 2., 4., 3., 5.])}\n",
      "{'sick_from_seas_vacc': array([2., 4., 1., 5., 3.])}\n",
      "{'age_bracket': array(['55 - 64 Years', '35 - 44 Years', '18 - 34 Years', '65+ Years',\n",
      "       '45 - 54 Years'], dtype=object)}\n",
      "{'qualification': array(['< 12 Years', '12 Years', 'College Graduate', 'Some College'],\n",
      "      dtype=object)}\n",
      "{'race': array(['White', 'Black', 'Other or Multiple', 'Hispanic'], dtype=object)}\n",
      "{'sex': array(['Female', 'Male'], dtype=object)}\n",
      "{'income_level': array(['Below Poverty', '<= $75,000, Above Poverty', '> $75,000'],\n",
      "      dtype=object)}\n",
      "{'marital_status': array(['Not Married', 'Married'], dtype=object)}\n",
      "{'housing_status': array(['Own', 'Rent'], dtype=object)}\n",
      "{'employment': array(['Not in Labor Force', 'Employed', 'Unemployed'], dtype=object)}\n",
      "{'census_msa': array(['Non-MSA', 'MSA, Not Principle  City', 'MSA, Principle City'],\n",
      "      dtype=object)}\n",
      "{'no_of_adults': array([0., 2., 1., 3.])}\n",
      "{'no_of_children': array([0., 3., 2., 1.])}\n",
      "{'h1n1_vaccine': array([0, 1], dtype=int64)}\n"
     ]
    }
   ],
   "source": [
    "#Checking the unique value present in the data\n",
    "for i in data.columns:\n",
    "    print({i:data[i].unique()})"
   ]
  },
  {
   "cell_type": "code",
   "execution_count": 14,
   "metadata": {
    "colab": {
     "base_uri": "https://localhost:8080/"
    },
    "executionInfo": {
     "elapsed": 21,
     "status": "ok",
     "timestamp": 1669033380500,
     "user": {
      "displayName": "SURAJ YADAV",
      "userId": "00000034105871889528"
     },
     "user_tz": -330
    },
    "id": "ELDRRHxdtsdb",
    "outputId": "f8559f92-8102-4506-d320-9168bb80e957"
   },
   "outputs": [
    {
     "data": {
      "text/plain": [
       "['age_bracket',\n",
       " 'qualification',\n",
       " 'race',\n",
       " 'sex',\n",
       " 'income_level',\n",
       " 'marital_status',\n",
       " 'housing_status',\n",
       " 'employment',\n",
       " 'census_msa']"
      ]
     },
     "execution_count": 14,
     "metadata": {},
     "output_type": "execute_result"
    }
   ],
   "source": [
    "#for differentiationg categorical variables of object type\n",
    "colname=[]\n",
    "for x in data.columns:\n",
    "    if data[x].dtype=='object':\n",
    "        colname.append(x)\n",
    "colname"
   ]
  },
  {
   "cell_type": "code",
   "execution_count": 15,
   "metadata": {
    "colab": {
     "base_uri": "https://localhost:8080/"
    },
    "executionInfo": {
     "elapsed": 16,
     "status": "ok",
     "timestamp": 1669033380500,
     "user": {
      "displayName": "SURAJ YADAV",
      "userId": "00000034105871889528"
     },
     "user_tz": -330
    },
    "id": "v9fA9K462wui",
    "outputId": "73b182f5-8e3f-4a1f-9c05-35e7ea82ece6"
   },
   "outputs": [
    {
     "name": "stdout",
     "output_type": "stream",
     "text": [
      "Feature age_bracket\n",
      "mapping {'18 - 34 Years': 0, '35 - 44 Years': 1, '45 - 54 Years': 2, '55 - 64 Years': 3, '65+ Years': 4}\n",
      "Feature qualification\n",
      "mapping {'12 Years': 0, '< 12 Years': 1, 'College Graduate': 2, 'Some College': 3}\n",
      "Feature race\n",
      "mapping {'Black': 0, 'Hispanic': 1, 'Other or Multiple': 2, 'White': 3}\n",
      "Feature sex\n",
      "mapping {'Female': 0, 'Male': 1}\n",
      "Feature income_level\n",
      "mapping {'<= $75,000, Above Poverty': 0, '> $75,000': 1, 'Below Poverty': 2}\n",
      "Feature marital_status\n",
      "mapping {'Married': 0, 'Not Married': 1}\n",
      "Feature housing_status\n",
      "mapping {'Own': 0, 'Rent': 1}\n",
      "Feature employment\n",
      "mapping {'Employed': 0, 'Not in Labor Force': 1, 'Unemployed': 2}\n",
      "Feature census_msa\n",
      "mapping {'MSA, Not Principle  City': 0, 'MSA, Principle City': 1, 'Non-MSA': 2}\n"
     ]
    }
   ],
   "source": [
    "# For preprocessing the data\n",
    "from sklearn.preprocessing import LabelEncoder\n",
    "\n",
    "le=LabelEncoder()\n",
    "\n",
    "for x in colname:\n",
    "    data[x]=le.fit_transform(data[x])\n",
    "    \n",
    "    le_name_mapping = dict(zip(le.classes_, le.transform(le.classes_)))\n",
    "    print('Feature', x)\n",
    "    print('mapping', le_name_mapping)"
   ]
  },
  {
   "cell_type": "code",
   "execution_count": 16,
   "metadata": {
    "executionInfo": {
     "elapsed": 14,
     "status": "ok",
     "timestamp": 1669033380500,
     "user": {
      "displayName": "SURAJ YADAV",
      "userId": "00000034105871889528"
     },
     "user_tz": -330
    },
    "id": "XuaUtP-L3Ula"
   },
   "outputs": [],
   "source": [
    "X=data.values[:,0:-1]\n",
    "Y=data.values[:,-1]"
   ]
  },
  {
   "cell_type": "code",
   "execution_count": 17,
   "metadata": {
    "colab": {
     "base_uri": "https://localhost:8080/"
    },
    "executionInfo": {
     "elapsed": 14,
     "status": "ok",
     "timestamp": 1669033380500,
     "user": {
      "displayName": "SURAJ YADAV",
      "userId": "00000034105871889528"
     },
     "user_tz": -330
    },
    "id": "_Dvdf4wu3vhS",
    "outputId": "7b6717de-977d-447e-8669-6edc44f4277e"
   },
   "outputs": [
    {
     "name": "stdout",
     "output_type": "stream",
     "text": [
      "(26707, 32)\n",
      "(26707,)\n"
     ]
    }
   ],
   "source": [
    "print(X.shape)\n",
    "print(Y.shape)"
   ]
  },
  {
   "cell_type": "code",
   "execution_count": 18,
   "metadata": {
    "colab": {
     "base_uri": "https://localhost:8080/"
    },
    "executionInfo": {
     "elapsed": 12,
     "status": "ok",
     "timestamp": 1669033380500,
     "user": {
      "displayName": "SURAJ YADAV",
      "userId": "00000034105871889528"
     },
     "user_tz": -330
    },
    "id": "NzQCw-Tt3yoA",
    "outputId": "7f9ab7b9-5a2d-41ab-ab58-31030a4cfa94"
   },
   "outputs": [
    {
     "name": "stdout",
     "output_type": "stream",
     "text": [
      "[[-0.68184881 -2.04427905 -0.22629268 ...  1.4168754  -1.18346335\n",
      "  -0.5826811 ]\n",
      " [ 1.51837305  1.19702709 -0.22629268 ... -1.01237871 -1.18346335\n",
      "  -0.5826811 ]\n",
      " [-0.68184881 -0.42362598 -0.22629268 ... -1.01237871  1.48332333\n",
      "  -0.5826811 ]\n",
      " ...\n",
      " [ 0.41826212  1.19702709 -0.22629268 ... -1.01237871 -1.18346335\n",
      "  -0.5826811 ]\n",
      " [-0.68184881 -0.42362598 -0.22629268 ...  1.4168754   0.14992999\n",
      "  -0.5826811 ]\n",
      " [-1.78195974 -2.04427905 -0.22629268 ...  0.20224834  0.14992999\n",
      "  -0.5826811 ]]\n"
     ]
    }
   ],
   "source": [
    "from sklearn.preprocessing import StandardScaler\n",
    "\n",
    "scaler=StandardScaler()\n",
    "X=scaler.fit_transform(X)#fit will lear mean and sigma values \n",
    "#scaler.fit_transform(X)\n",
    "#X=scaler.transform(X)\n",
    "print(X)\n",
    "# only X is to be scaled Y does not have discreprency"
   ]
  },
  {
   "cell_type": "code",
   "execution_count": 19,
   "metadata": {
    "executionInfo": {
     "elapsed": 12,
     "status": "ok",
     "timestamp": 1669033380501,
     "user": {
      "displayName": "SURAJ YADAV",
      "userId": "00000034105871889528"
     },
     "user_tz": -330
    },
    "id": "puPouoZ-36Ty"
   },
   "outputs": [],
   "source": [
    "#Splitting the data\n",
    "from sklearn.model_selection import train_test_split\n",
    "\n",
    "#split the data into test and train \n",
    "X_train, X_test, Y_train, Y_test= train_test_split(X, Y, test_size=0.3,random_state=10)"
   ]
  },
  {
   "cell_type": "code",
   "execution_count": 20,
   "metadata": {
    "colab": {
     "base_uri": "https://localhost:8080/"
    },
    "executionInfo": {
     "elapsed": 12,
     "status": "ok",
     "timestamp": 1669033380501,
     "user": {
      "displayName": "SURAJ YADAV",
      "userId": "00000034105871889528"
     },
     "user_tz": -330
    },
    "id": "GC4LE3ll4A4P",
    "outputId": "403661bf-b115-42b6-cc68-cd575928ce13"
   },
   "outputs": [
    {
     "name": "stdout",
     "output_type": "stream",
     "text": [
      "(18694, 32)\n",
      "(18694,)\n",
      "(8013, 32)\n",
      "(8013,)\n"
     ]
    }
   ],
   "source": [
    "print(X_train.shape)\n",
    "print(Y_train.shape)\n",
    "print(X_test.shape)\n",
    "print(Y_test.shape)"
   ]
  },
  {
   "cell_type": "code",
   "execution_count": 21,
   "metadata": {
    "colab": {
     "base_uri": "https://localhost:8080/"
    },
    "executionInfo": {
     "elapsed": 11,
     "status": "ok",
     "timestamp": 1669033380501,
     "user": {
      "displayName": "SURAJ YADAV",
      "userId": "00000034105871889528"
     },
     "user_tz": -330
    },
    "id": "usQ7Jzow4DBR",
    "outputId": "9e99a905-a774-41e9-97bb-96afafbb9beb"
   },
   "outputs": [
    {
     "name": "stdout",
     "output_type": "stream",
     "text": [
      "[0. 0. 0. ... 0. 0. 1.]\n"
     ]
    }
   ],
   "source": [
    "# BUILDING MODEL\n",
    "from sklearn.linear_model import LogisticRegression\n",
    "#create a model object \n",
    "classifier=LogisticRegression()\n",
    "#train the model object\n",
    "classifier.fit(X_train,Y_train)\n",
    "\n",
    "Y_pred=classifier.predict(X_test)\n",
    "print(Y_pred)"
   ]
  },
  {
   "cell_type": "code",
   "execution_count": 22,
   "metadata": {
    "colab": {
     "base_uri": "https://localhost:8080/"
    },
    "executionInfo": {
     "elapsed": 10,
     "status": "ok",
     "timestamp": 1669033380501,
     "user": {
      "displayName": "SURAJ YADAV",
      "userId": "00000034105871889528"
     },
     "user_tz": -330
    },
    "id": "XxqIrB324JVF",
    "outputId": "6c56346e-d32a-49bd-dbe3-b0960c01e36c"
   },
   "outputs": [
    {
     "name": "stdout",
     "output_type": "stream",
     "text": [
      "[('h1n1_worry', -0.09140330604984585), ('h1n1_awareness', 0.10493905298654191), ('antiviral_medication', 0.022826511784718277), ('contact_avoidance', -0.0076019620069912724), ('bought_face_mask', 0.049294028498516114), ('wash_hands_frequently', 0.012562591666358912), ('avoid_large_gatherings', -0.11563582874514783), ('reduced_outside_home_cont', -0.009575734970125772), ('avoid_touch_face', 0.03282368902927395), ('dr_recc_h1n1_vacc', 0.7978453181515301), ('dr_recc_seasonal_vacc', -0.2108781032145752), ('chronic_medic_condition', 0.03460178476470447), ('cont_child_undr_6_mnths', 0.050325265005783715), ('is_health_worker', 0.25653804035575467), ('has_health_insur', 0.03823152112304406), ('is_h1n1_vacc_effective', 0.5962054160760866), ('is_h1n1_risky', 0.4714838569470288), ('sick_from_h1n1_vacc', -0.02300159223780885), ('is_seas_vacc_effective', 0.10578550028694224), ('is_seas_risky', 0.18464098757198472), ('sick_from_seas_vacc', -0.09109739253808534), ('age_bracket', 0.16180198163767232), ('qualification', 0.019252831874169825), ('race', 0.09042851628783254), ('sex', 0.06814646510588779), ('income_level', 0.00016400370635974993), ('marital_status', -0.08287745249522863), ('housing_status', -0.014111099115606207), ('employment', 0.02284918585943967), ('census_msa', 0.036823051401495506), ('no_of_adults', -0.01363690434517291), ('no_of_children', -0.028608220431373284)]\n",
      "[-1.74642497]\n"
     ]
    }
   ],
   "source": [
    "#print(list(zip(Y_test,Y_pred)))\n",
    "\n",
    "print(list(zip(data[:-1],classifier.coef_.ravel())))\n",
    "print(classifier.intercept_)\n",
    "#classifier.coef_\n",
    "#ravel coefficient is used for ------------"
   ]
  },
  {
   "cell_type": "code",
   "execution_count": 23,
   "metadata": {
    "colab": {
     "base_uri": "https://localhost:8080/"
    },
    "executionInfo": {
     "elapsed": 9,
     "status": "ok",
     "timestamp": 1669033380501,
     "user": {
      "displayName": "SURAJ YADAV",
      "userId": "00000034105871889528"
     },
     "user_tz": -330
    },
    "id": "IquUULhp4R7-",
    "outputId": "88af92c2-439e-4020-ed6f-798107f29648"
   },
   "outputs": [
    {
     "name": "stdout",
     "output_type": "stream",
     "text": [
      "[[5983  336]\n",
      " [ 970  724]]\n",
      "Classification report: \n",
      "              precision    recall  f1-score   support\n",
      "\n",
      "         0.0       0.86      0.95      0.90      6319\n",
      "         1.0       0.68      0.43      0.53      1694\n",
      "\n",
      "    accuracy                           0.84      8013\n",
      "   macro avg       0.77      0.69      0.71      8013\n",
      "weighted avg       0.82      0.84      0.82      8013\n",
      "\n",
      "Accuracy of the model:  0.8370148508673406\n"
     ]
    }
   ],
   "source": [
    "#Evalution matrix\n",
    "from sklearn.metrics import confusion_matrix, accuracy_score, classification_report\n",
    "\n",
    "cfm=confusion_matrix(Y_test,Y_pred)\n",
    "print(cfm)\n",
    "\n",
    "print(\"Classification report: \")\n",
    "\n",
    "print(classification_report(Y_test,Y_pred))\n",
    "\n",
    "acc=accuracy_score(Y_test, Y_pred)\n",
    "print(\"Accuracy of the model: \",acc)\n",
    "# 0--->did not receive the vaccine---No\n",
    "# 1--->recived the vaccine----Yes"
   ]
  },
  {
   "cell_type": "markdown",
   "metadata": {
    "id": "0epPqMUpv0hG"
   },
   "source": [
    "### Adjusting the threshold"
   ]
  },
  {
   "cell_type": "code",
   "execution_count": 24,
   "metadata": {
    "colab": {
     "base_uri": "https://localhost:8080/"
    },
    "executionInfo": {
     "elapsed": 8,
     "status": "ok",
     "timestamp": 1669033380502,
     "user": {
      "displayName": "SURAJ YADAV",
      "userId": "00000034105871889528"
     },
     "user_tz": -330
    },
    "id": "rg1b-10hv4El",
    "outputId": "47b51459-5fac-4819-ae66-d420e3c7c5c5"
   },
   "outputs": [
    {
     "name": "stdout",
     "output_type": "stream",
     "text": [
      "[[0.81479014 0.18520986]\n",
      " [0.77824577 0.22175423]\n",
      " [0.92504213 0.07495787]\n",
      " ...\n",
      " [0.91613094 0.08386906]\n",
      " [0.54434289 0.45565711]\n",
      " [0.31907543 0.68092457]]\n"
     ]
    }
   ],
   "source": [
    "# store the predicted probabilities\n",
    "y_pred_prob=classifier.predict_proba(X_test)\n",
    "print(y_pred_prob)"
   ]
  },
  {
   "cell_type": "code",
   "execution_count": 25,
   "metadata": {
    "executionInfo": {
     "elapsed": 7,
     "status": "ok",
     "timestamp": 1669033380502,
     "user": {
      "displayName": "SURAJ YADAV",
      "userId": "00000034105871889528"
     },
     "user_tz": -330
    },
    "id": "lJz8twnvwAwI"
   },
   "outputs": [],
   "source": [
    "y_pred_class=[]\n",
    "for value in y_pred_prob[:,1]:\n",
    "    if value>0.40:\n",
    "        y_pred_class.append(1)\n",
    "    else:\n",
    "        y_pred_class.append(0)\n",
    "#print(y_pred_class)"
   ]
  },
  {
   "cell_type": "code",
   "execution_count": 26,
   "metadata": {
    "colab": {
     "base_uri": "https://localhost:8080/"
    },
    "executionInfo": {
     "elapsed": 7,
     "status": "ok",
     "timestamp": 1669033380502,
     "user": {
      "displayName": "SURAJ YADAV",
      "userId": "00000034105871889528"
     },
     "user_tz": -330
    },
    "id": "NrA7ju1tyIH6",
    "outputId": "07ceb9f5-770c-4e8e-f716-bd69b472a109"
   },
   "outputs": [
    {
     "name": "stdout",
     "output_type": "stream",
     "text": [
      "[[5781  538]\n",
      " [ 772  922]]\n",
      "Classification report: \n",
      "              precision    recall  f1-score   support\n",
      "\n",
      "         0.0       0.88      0.91      0.90      6319\n",
      "         1.0       0.63      0.54      0.58      1694\n",
      "\n",
      "    accuracy                           0.84      8013\n",
      "   macro avg       0.76      0.73      0.74      8013\n",
      "weighted avg       0.83      0.84      0.83      8013\n",
      "\n",
      "Accuracy of the model:  0.83651566204917\n"
     ]
    }
   ],
   "source": [
    "#Evalution matrix\n",
    "from sklearn.metrics import confusion_matrix, accuracy_score, classification_report\n",
    "\n",
    "cfm=confusion_matrix(Y_test,y_pred_class)\n",
    "print(cfm)\n",
    "\n",
    "print(\"Classification report: \")\n",
    "\n",
    "print(classification_report(Y_test,y_pred_class))\n",
    "\n",
    "acc=accuracy_score(Y_test, y_pred_class)\n",
    "print(\"Accuracy of the model: \",acc)"
   ]
  },
  {
   "cell_type": "code",
   "execution_count": 27,
   "metadata": {
    "colab": {
     "base_uri": "https://localhost:8080/"
    },
    "executionInfo": {
     "elapsed": 1042,
     "status": "ok",
     "timestamp": 1669033381538,
     "user": {
      "displayName": "SURAJ YADAV",
      "userId": "00000034105871889528"
     },
     "user_tz": -330
    },
    "id": "hgHs2Br1yIL6",
    "outputId": "5b7c7b5d-1d30-4200-ee76-6e00454ea1cf"
   },
   "outputs": [
    {
     "name": "stdout",
     "output_type": "stream",
     "text": [
      "Errors at threshold  0.4 : 1310  , type 2 error : 772  , type 1 error: 538\n",
      "Errors at threshold  0.41000000000000003 : 1311  , type 2 error : 796  , type 1 error: 515\n",
      "Errors at threshold  0.42000000000000004 : 1307  , type 2 error : 819  , type 1 error: 488\n",
      "Errors at threshold  0.43000000000000005 : 1303  , type 2 error : 836  , type 1 error: 467\n",
      "Errors at threshold  0.44000000000000006 : 1305  , type 2 error : 855  , type 1 error: 450\n",
      "Errors at threshold  0.45000000000000007 : 1308  , type 2 error : 882  , type 1 error: 426\n",
      "Errors at threshold  0.4600000000000001 : 1297  , type 2 error : 899  , type 1 error: 398\n",
      "Errors at threshold  0.4700000000000001 : 1289  , type 2 error : 915  , type 1 error: 374\n",
      "Errors at threshold  0.4800000000000001 : 1291  , type 2 error : 931  , type 1 error: 360\n",
      "Errors at threshold  0.4900000000000001 : 1292  , type 2 error : 947  , type 1 error: 345\n",
      "Errors at threshold  0.5000000000000001 : 1306  , type 2 error : 970  , type 1 error: 336\n",
      "Errors at threshold  0.5100000000000001 : 1302  , type 2 error : 982  , type 1 error: 320\n",
      "Errors at threshold  0.5200000000000001 : 1306  , type 2 error : 1001  , type 1 error: 305\n",
      "Errors at threshold  0.5300000000000001 : 1311  , type 2 error : 1013  , type 1 error: 298\n",
      "Errors at threshold  0.5400000000000001 : 1305  , type 2 error : 1026  , type 1 error: 279\n",
      "Errors at threshold  0.5500000000000002 : 1312  , type 2 error : 1048  , type 1 error: 264\n",
      "Errors at threshold  0.5600000000000002 : 1315  , type 2 error : 1063  , type 1 error: 252\n",
      "Errors at threshold  0.5700000000000002 : 1322  , type 2 error : 1082  , type 1 error: 240\n",
      "Errors at threshold  0.5800000000000002 : 1335  , type 2 error : 1106  , type 1 error: 229\n",
      "Errors at threshold  0.5900000000000002 : 1333  , type 2 error : 1121  , type 1 error: 212\n",
      "Errors at threshold  0.6000000000000002 : 1336  , type 2 error : 1132  , type 1 error: 204\n"
     ]
    }
   ],
   "source": [
    "for a in np.arange(0.4,0.61,0.01):\n",
    "    predict_mine = np.where(y_pred_prob[:,1] > a, 1, 0)\n",
    "    cfm=confusion_matrix(Y_test, predict_mine)\n",
    "    total_err=cfm[0,1]+cfm[1,0]\n",
    "    print(\"Errors at threshold \", a, \":\",total_err, \" , type 2 error :\", \n",
    "          cfm[1,0],\" , type 1 error:\", cfm[0,1])"
   ]
  },
  {
   "cell_type": "markdown",
   "metadata": {
    "executionInfo": {
     "elapsed": 12,
     "status": "ok",
     "timestamp": 1669033381538,
     "user": {
      "displayName": "SURAJ YADAV",
      "userId": "00000034105871889528"
     },
     "user_tz": -330
    },
    "id": "bqX9X8pYyIO1"
   },
   "source": [
    "In above try  reducing type 2 and total error and select the threshold accordingly.\n",
    "\n",
    "In this case it is 0.47"
   ]
  },
  {
   "cell_type": "code",
   "execution_count": 28,
   "metadata": {
    "executionInfo": {
     "elapsed": 12,
     "status": "ok",
     "timestamp": 1669033381539,
     "user": {
      "displayName": "SURAJ YADAV",
      "userId": "00000034105871889528"
     },
     "user_tz": -330
    },
    "id": "7B-bjdLNyISN"
   },
   "outputs": [],
   "source": [
    "y_pred_class=[]\n",
    "for value in y_pred_prob[:,1]:\n",
    "    if value>0.4600000000000001  :\n",
    "        y_pred_class.append(1)\n",
    "    else:\n",
    "        y_pred_class.append(0)\n",
    "#print(y_pred_class)"
   ]
  },
  {
   "cell_type": "code",
   "execution_count": 29,
   "metadata": {
    "colab": {
     "base_uri": "https://localhost:8080/"
    },
    "executionInfo": {
     "elapsed": 12,
     "status": "ok",
     "timestamp": 1669033381539,
     "user": {
      "displayName": "SURAJ YADAV",
      "userId": "00000034105871889528"
     },
     "user_tz": -330
    },
    "id": "kdDj-sWdyIU6",
    "outputId": "6f092fd3-754e-4122-8572-695c1923ac2e"
   },
   "outputs": [
    {
     "data": {
      "text/plain": [
       "array([[0.81479014, 0.18520986],\n",
       "       [0.77824577, 0.22175423],\n",
       "       [0.92504213, 0.07495787],\n",
       "       ...,\n",
       "       [0.91613094, 0.08386906],\n",
       "       [0.54434289, 0.45565711],\n",
       "       [0.31907543, 0.68092457]])"
      ]
     },
     "execution_count": 29,
     "metadata": {},
     "output_type": "execute_result"
    }
   ],
   "source": [
    "y_pred_prob"
   ]
  },
  {
   "cell_type": "code",
   "execution_count": 30,
   "metadata": {
    "colab": {
     "base_uri": "https://localhost:8080/"
    },
    "executionInfo": {
     "elapsed": 12,
     "status": "ok",
     "timestamp": 1669033381540,
     "user": {
      "displayName": "SURAJ YADAV",
      "userId": "00000034105871889528"
     },
     "user_tz": -330
    },
    "id": "GSJX9a9kyIaX",
    "outputId": "071cc94c-7931-499d-9856-9e90a9d6f226"
   },
   "outputs": [
    {
     "name": "stdout",
     "output_type": "stream",
     "text": [
      "[[5921  398]\n",
      " [ 899  795]]\n",
      "Classification report: \n",
      "              precision    recall  f1-score   support\n",
      "\n",
      "         0.0       0.87      0.94      0.90      6319\n",
      "         1.0       0.67      0.47      0.55      1694\n",
      "\n",
      "    accuracy                           0.84      8013\n",
      "   macro avg       0.77      0.70      0.73      8013\n",
      "weighted avg       0.83      0.84      0.83      8013\n",
      "\n",
      "Accuracy of the model:  0.8381380257082242\n"
     ]
    }
   ],
   "source": [
    "#Evalution matrix\n",
    "from sklearn.metrics import confusion_matrix, accuracy_score, classification_report\n",
    "\n",
    "cfm=confusion_matrix(Y_test,y_pred_class)\n",
    "print(cfm)\n",
    "\n",
    "print(\"Classification report: \")\n",
    "\n",
    "print(classification_report(Y_test,y_pred_class))\n",
    "\n",
    "acc=accuracy_score(Y_test, y_pred_class)\n",
    "print(\"Accuracy of the model: \",acc)"
   ]
  },
  {
   "cell_type": "code",
   "execution_count": 31,
   "metadata": {
    "colab": {
     "base_uri": "https://localhost:8080/"
    },
    "executionInfo": {
     "elapsed": 11,
     "status": "ok",
     "timestamp": 1669033381540,
     "user": {
      "displayName": "SURAJ YADAV",
      "userId": "00000034105871889528"
     },
     "user_tz": -330
    },
    "id": "pcDlLvoLyIdQ",
    "outputId": "92ef28b5-cb04-4003-89b2-7825f0738f87"
   },
   "outputs": [
    {
     "name": "stdout",
     "output_type": "stream",
     "text": [
      "0.8364485828519262\n"
     ]
    }
   ],
   "source": [
    "#In case of delimaa to decide using area under curve \n",
    "#overall auc of the prob values\n",
    "from sklearn import metrics\n",
    "\n",
    "fpr, tpr, z = metrics.roc_curve(Y_test, y_pred_prob[:,1])#false positive rate & true positivity rate \n",
    "auc = metrics.auc(fpr,tpr)\n",
    "\n",
    "print(auc)"
   ]
  },
  {
   "cell_type": "code",
   "execution_count": 32,
   "metadata": {
    "colab": {
     "base_uri": "https://localhost:8080/",
     "height": 295
    },
    "executionInfo": {
     "elapsed": 10,
     "status": "ok",
     "timestamp": 1669033381540,
     "user": {
      "displayName": "SURAJ YADAV",
      "userId": "00000034105871889528"
     },
     "user_tz": -330
    },
    "id": "I8u_xNVoz7Lr",
    "outputId": "815f3277-7331-420c-d7d6-df21927bea30"
   },
   "outputs": [
    {
     "data": {
      "image/png": "[encoded data removed]",
      "text/plain": [
       "<Figure size 432x288 with 1 Axes>"
      ]
     },
     "metadata": {
      "needs_background": "light"
     },
     "output_type": "display_data"
    }
   ],
   "source": [
    "import matplotlib.pyplot as plt\n",
    "plt.title('Receiver Operating Characteristic')\n",
    "plt.plot(fpr,tpr, 'b', label = auc)\n",
    "plt.legend(loc = 'lower right')\n",
    "plt.plot([0, 1], [0, 1],'r--')\n",
    "plt.xlim([0, 1])\n",
    "plt.ylim([0, 1])\n",
    "plt.xlabel('False Positive Rate')\n",
    "plt.ylabel('True Positive Rate')\n",
    "\n",
    "plt.show()"
   ]
  },
  {
   "cell_type": "code",
   "execution_count": 33,
   "metadata": {
    "executionInfo": {
     "elapsed": 9,
     "status": "ok",
     "timestamp": 1669033381540,
     "user": {
      "displayName": "SURAJ YADAV",
      "userId": "00000034105871889528"
     },
     "user_tz": -330
    },
    "id": "5zxCtv4L0BT2"
   },
   "outputs": [],
   "source": [
    "y_pred_class=[]\n",
    "for value in y_pred_prob[:,1]:\n",
    "    if value>0.4600000000000001 :\n",
    "        y_pred_class.append(1)\n",
    "    else:\n",
    "        y_pred_class.append(0)\n",
    "#print(y_pred_class)"
   ]
  },
  {
   "cell_type": "code",
   "execution_count": 34,
   "metadata": {
    "colab": {
     "base_uri": "https://localhost:8080/"
    },
    "executionInfo": {
     "elapsed": 10,
     "status": "ok",
     "timestamp": 1669033381541,
     "user": {
      "displayName": "SURAJ YADAV",
      "userId": "00000034105871889528"
     },
     "user_tz": -330
    },
    "id": "JD-1AXLDJEUl",
    "outputId": "04cc6a01-1612-48a9-ca31-2541ad0e0987"
   },
   "outputs": [
    {
     "name": "stdout",
     "output_type": "stream",
     "text": [
      "0.7031593871895129\n",
      "[0.         0.06298465 1.        ]\n",
      "[0.         0.46930342 1.        ]\n"
     ]
    }
   ],
   "source": [
    "#In case of delimaa to decide using area under curve \n",
    "from sklearn import metrics\n",
    "\n",
    "fpr, tpr, z = metrics.roc_curve(Y_test, y_pred_class)#false positive rate & true positivity rate \n",
    "auc = metrics.auc(fpr,tpr)\n",
    "\n",
    "print(auc)\n",
    "print(fpr)\n",
    "print(tpr)"
   ]
  },
  {
   "cell_type": "code",
   "execution_count": 35,
   "metadata": {
    "colab": {
     "base_uri": "https://localhost:8080/",
     "height": 295
    },
    "executionInfo": {
     "elapsed": 9,
     "status": "ok",
     "timestamp": 1669033381541,
     "user": {
      "displayName": "SURAJ YADAV",
      "userId": "00000034105871889528"
     },
     "user_tz": -330
    },
    "id": "YQqX7yQi0HOD",
    "outputId": "0129fa70-a1c3-44a9-9074-d622d49a65e7"
   },
   "outputs": [
    {
     "data": {
      "image/png": "[encoded data removed]",
      "text/plain": [
       "<Figure size 432x288 with 1 Axes>"
      ]
     },
     "metadata": {
      "needs_background": "light"
     },
     "output_type": "display_data"
    }
   ],
   "source": [
    "import matplotlib.pyplot as plt\n",
    "plt.title('Receiver Operating Characteristic')\n",
    "plt.plot(fpr,tpr, 'b', label = auc)\n",
    "plt.legend(loc = 'lower right')\n",
    "plt.plot([0, 1], [0, 1],'r--')\n",
    "plt.xlim([0, 1])\n",
    "plt.ylim([0, 1])\n",
    "plt.xlabel('False Positive Rate')\n",
    "plt.ylabel('True Positive Rate')\n",
    "\n",
    "plt.show()"
   ]
  },
  {
   "cell_type": "markdown",
   "metadata": {
    "id": "gLe1s9ai0m1B"
   },
   "source": [
    "USING SGD CLASSIFIER"
   ]
  },
  {
   "cell_type": "code",
   "execution_count": 36,
   "metadata": {
    "executionInfo": {
     "elapsed": 12,
     "status": "ok",
     "timestamp": 1669033382163,
     "user": {
      "displayName": "SURAJ YADAV",
      "userId": "00000034105871889528"
     },
     "user_tz": -330
    },
    "id": "JH1UpjDkLOrt"
   },
   "outputs": [],
   "source": [
    "#SPLITTING THE DATA for SGD\n",
    "from sklearn.model_selection import train_test_split\n",
    "\n",
    "#split the data into test and train \n",
    "X_train1, X_test1, Y_train1, Y_test1= train_test_split(X, Y, test_size=0.3,random_state=10)"
   ]
  },
  {
   "cell_type": "code",
   "execution_count": 37,
   "metadata": {
    "executionInfo": {
     "elapsed": 12,
     "status": "ok",
     "timestamp": 1669033382164,
     "user": {
      "displayName": "SURAJ YADAV",
      "userId": "00000034105871889528"
     },
     "user_tz": -330
    },
    "id": "7zHMxMpe0HU0"
   },
   "outputs": [],
   "source": [
    "from sklearn.linear_model import SGDClassifier\n",
    "#create a model\n",
    "classifier=SGDClassifier(loss=\"log\",random_state=10,learning_rate=\"constant\",\n",
    "                         eta0=0.00001,max_iter=1000, shuffle=True,\n",
    "                        early_stopping=True,n_iter_no_change=5)#loss can be log and hinge , random_state for shufling,n_iter_no_change=no of iteration for zero convergence \n",
    "#fitting training data to the model\n",
    "classifier.fit(X_train1,Y_train1)\n",
    "\n",
    "Y_pred1=classifier.predict(X_test1)\n",
    "#print(list(zip(Y_test1,Y_pred1)))\n",
    "\n",
    "#print(list(zip(adult_df_rev.columns[:-1],classifier.coef_.ravel())))\n",
    "#print(classifier.intercept_)"
   ]
  },
  {
   "cell_type": "code",
   "execution_count": 38,
   "metadata": {
    "colab": {
     "base_uri": "https://localhost:8080/"
    },
    "executionInfo": {
     "elapsed": 12,
     "status": "ok",
     "timestamp": 1669033382164,
     "user": {
      "displayName": "SURAJ YADAV",
      "userId": "00000034105871889528"
     },
     "user_tz": -330
    },
    "id": "rWjdQ9qQbmOB",
    "outputId": "e905adae-0d02-4ae0-84c3-1db82fc0801a"
   },
   "outputs": [
    {
     "name": "stdout",
     "output_type": "stream",
     "text": [
      "[[5430  889]\n",
      " [ 673 1021]]\n",
      "Classification report: \n",
      "              precision    recall  f1-score   support\n",
      "\n",
      "         0.0       0.89      0.86      0.87      6319\n",
      "         1.0       0.53      0.60      0.57      1694\n",
      "\n",
      "    accuracy                           0.81      8013\n",
      "   macro avg       0.71      0.73      0.72      8013\n",
      "weighted avg       0.81      0.81      0.81      8013\n",
      "\n",
      "Accuracy of the model:  0.8050667665044303\n"
     ]
    }
   ],
   "source": [
    "#Evalution matrix\n",
    "from sklearn.metrics import confusion_matrix, accuracy_score, classification_report\n",
    "\n",
    "cfm=confusion_matrix(Y_test,Y_pred1)\n",
    "print(cfm)\n",
    "\n",
    "print(\"Classification report: \")\n",
    "\n",
    "print(classification_report(Y_test,Y_pred1))\n",
    "\n",
    "acc=accuracy_score(Y_test, Y_pred1)\n",
    "print(\"Accuracy of the model: \",acc)"
   ]
  },
  {
   "cell_type": "code",
   "execution_count": 39,
   "metadata": {
    "colab": {
     "base_uri": "https://localhost:8080/"
    },
    "executionInfo": {
     "elapsed": 9,
     "status": "ok",
     "timestamp": 1669033382164,
     "user": {
      "displayName": "SURAJ YADAV",
      "userId": "00000034105871889528"
     },
     "user_tz": -330
    },
    "id": "ZJjL8HUq0zji",
    "outputId": "6a9e1318-9290-4d83-c8fd-1e1306bedb45"
   },
   "outputs": [
    {
     "data": {
      "text/plain": [
       "6"
      ]
     },
     "execution_count": 39,
     "metadata": {},
     "output_type": "execute_result"
    }
   ],
   "source": [
    "classifier.n_iter_"
   ]
  },
  {
   "cell_type": "code",
   "execution_count": 40,
   "metadata": {
    "colab": {
     "base_uri": "https://localhost:8080/"
    },
    "executionInfo": {
     "elapsed": 7,
     "status": "ok",
     "timestamp": 1669033382164,
     "user": {
      "displayName": "SURAJ YADAV",
      "userId": "00000034105871889528"
     },
     "user_tz": -330
    },
    "id": "Ke1M-zhB1VSz",
    "outputId": "450d1dd4-1e08-4e0b-df36-5e191987954b"
   },
   "outputs": [
    {
     "data": {
      "text/plain": [
       "112165.0"
      ]
     },
     "execution_count": 40,
     "metadata": {},
     "output_type": "execute_result"
    }
   ],
   "source": [
    "classifier.t_"
   ]
  },
  {
   "cell_type": "code",
   "execution_count": 41,
   "metadata": {
    "colab": {
     "base_uri": "https://localhost:8080/"
    },
    "executionInfo": {
     "elapsed": 6,
     "status": "ok",
     "timestamp": 1669033382164,
     "user": {
      "displayName": "SURAJ YADAV",
      "userId": "00000034105871889528"
     },
     "user_tz": -330
    },
    "id": "sGBTI1h11XYm",
    "outputId": "4fb84061-43a6-46fc-d9c5-ab615275b5c6"
   },
   "outputs": [
    {
     "name": "stdout",
     "output_type": "stream",
     "text": [
      "[0.84171123 0.83048128 0.83743316 0.82566845 0.84269663 0.82932049\n",
      " 0.84055645 0.82664526 0.83895131 0.83681113]\n",
      "0.8350275391055298\n"
     ]
    }
   ],
   "source": [
    "#Using cross validation\n",
    "\n",
    "classifier=LogisticRegression()\n",
    "\n",
    "#performing kfold_cross_validation\n",
    "from sklearn.model_selection import KFold\n",
    "kfold_cv=KFold(n_splits=10,random_state=10,shuffle=True)#random_state =shuffle the data\n",
    "#print(kfold_cv)\n",
    "\n",
    "from sklearn.model_selection import cross_val_score\n",
    "#running the model using scoring metric as accuracy\n",
    "kfold_cv_result=cross_val_score(estimator=classifier,X=X_train,\n",
    "                                                 y=Y_train, cv=kfold_cv)\n",
    "print(kfold_cv_result)\n",
    "#finding the mean\n",
    "print(kfold_cv_result.mean())"
   ]
  },
  {
   "cell_type": "code",
   "execution_count": 42,
   "metadata": {
    "executionInfo": {
     "elapsed": 1223,
     "status": "ok",
     "timestamp": 1669033383383,
     "user": {
      "displayName": "SURAJ YADAV",
      "userId": "00000034105871889528"
     },
     "user_tz": -330
    },
    "id": "jvp4j11MMk64"
   },
   "outputs": [],
   "source": [
    "#model tuning using cross validation if the base model is not accepted\n",
    "#only implement if there is drastic difference accuracy score\n",
    "\n",
    "for train_value, test_value in kfold_cv.split(X_train):\n",
    "    classifier.fit(X_train[train_value], Y_train[train_value]).predict(X_train[test_value])#classifier pointing to Logistic regression\n",
    "\n",
    "    \n",
    "Y_pred=classifier.predict(X_test)\n",
    "#print(list(zip(Y_test,Y_pred)))"
   ]
  },
  {
   "cell_type": "code",
   "execution_count": 43,
   "metadata": {
    "colab": {
     "base_uri": "https://localhost:8080/"
    },
    "executionInfo": {
     "elapsed": 14,
     "status": "ok",
     "timestamp": 1669033383384,
     "user": {
      "displayName": "SURAJ YADAV",
      "userId": "00000034105871889528"
     },
     "user_tz": -330
    },
    "id": "IanlxAyRMonr",
    "outputId": "e57db356-b3fb-4f2b-dae8-cfa52f4d14e2"
   },
   "outputs": [
    {
     "name": "stdout",
     "output_type": "stream",
     "text": [
      "[[5984  335]\n",
      " [ 969  725]]\n",
      "Classification report: \n",
      "              precision    recall  f1-score   support\n",
      "\n",
      "         0.0       0.86      0.95      0.90      6319\n",
      "         1.0       0.68      0.43      0.53      1694\n",
      "\n",
      "    accuracy                           0.84      8013\n",
      "   macro avg       0.77      0.69      0.71      8013\n",
      "weighted avg       0.82      0.84      0.82      8013\n",
      "\n",
      "Accuracy of the model:  0.8372644452764259\n"
     ]
    }
   ],
   "source": [
    "#Evalution matrix\n",
    "from sklearn.metrics import confusion_matrix, accuracy_score, classification_report\n",
    "\n",
    "cfm=confusion_matrix(Y_test,Y_pred)\n",
    "print(cfm)\n",
    "\n",
    "print(\"Classification report: \")\n",
    "\n",
    "print(classification_report(Y_test,Y_pred))\n",
    "\n",
    "acc=accuracy_score(Y_test, Y_pred)\n",
    "print(\"Accuracy of the model: \",acc)"
   ]
  }
 ],
 "metadata": {
  "colab": {
   "authorship_tag": "ABX9TyMiUw8pbhS3YnXPZXwDjwVb",
   "mount_file_id": "1SPJKXb6NT36FN4gKa5uoUplFVXt4qDp9",
   "provenance": []
  },
  "kernelspec": {
   "display_name": "Python 3",
   "language": "python",
   "name": "python3"
  },
  "language_info": {
   "codemirror_mode": {
    "name": "ipython",
    "version": 3
   },
   "file_extension": ".py",
   "mimetype": "text/x-python",
   "name": "python",
   "nbconvert_exporter": "python",
   "pygments_lexer": "ipython3",
   "version": "3.7.6"
  }
 },
 "nbformat": 4,
 "nbformat_minor": 1
}
